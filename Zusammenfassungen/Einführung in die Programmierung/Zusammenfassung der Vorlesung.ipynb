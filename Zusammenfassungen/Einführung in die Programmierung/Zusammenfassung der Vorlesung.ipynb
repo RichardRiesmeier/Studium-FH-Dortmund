{
 "cells": [
  {
   "cell_type": "code",
   "execution_count": 1,
   "metadata": {},
   "outputs": [
    {
     "data": {
      "text/plain": [
       "2"
      ]
     },
     "execution_count": 1,
     "metadata": {},
     "output_type": "execute_result"
    }
   ],
   "source": [
    "int i = 1+1;\n",
    "i;"
   ]
  },
  {
   "cell_type": "markdown",
   "metadata": {},
   "source": [
    "# Zusammenfassung der Vorlesung \"Einführung in die Programmierung\"\n",
    "\n",
    "<h2 style=\"color: Maroon\">Inhalte</h2>\n",
    "\n",
    "Im Nachfolgenden findet sich eine Zusammenfassung der Vorlesung \"Einführung in die Programmierung\" doziert von Prof. Dr. Hoffmann an der Fachhochschule Dortmund. Das Modul gehört zum Bachelor-Studiengang \"Wirtschaftsinformatik\".<br> \n",
    "Zusammengefasst wurde diese Vorlesung von mir, Richard Riesmeier, mittels Jupyter Noteook.\n",
    "\n",
    "<h2 style=\"color: Maroon\">01 Ausdrücke und Methoden</h2>\n",
    "<h2 style=\"color: Maroon\">02 Kontrollstrukturen</h2>\n",
    "\n",
    "\n",
    "<h2 style=\"color: Maroon\">03 Felder</h2>\n",
    "<h2 style=\"color: Maroon\">04 Algorithmen</h2>\n",
    "\n",
    "<h2 style=\"color: Maroon\">05 Obejekte und Klassen</h2>\n",
    "\n",
    "<h3 style=\"color: Sienna\">Objekte und Klassen 1 </h3>\n",
    "\n",
    "<h4 style=\"color: Tan\"> Was ist ein Objekt?</h4>\n",
    "\n",
    "Objektorientierung (Abkürzung: OO):\n",
    "\n",
    "Ein Objekt ist ein individuelles Exemplar von Dingen:\n",
    "- Gegenstände: Handy, Sendemast, Geldautomat, Kreditkarte, PKW, …\n",
    "- Personen: Professor, Student, Kunde, Mitarbeiter, Manager, …\n",
    "- Begriffe der realen Welt: Konto, Vertrag, Kinofilm, Lied, …\n",
    "- Begriffe der Vorstellungswelt: juristische Person, natürliche Person, …\n",
    "\n",
    "Jedes Objekt ist definiert durch seinen Zustand, sein Verhalten und seine Identität.\n",
    "Zusätzlich hat ein Objekt ein Verhalten (engl. behaviour), das durch eine Menge von\n",
    "Methoden (auch Operationen genannt) gegeben ist.\n",
    "\n",
    "<h4 style=\"color: Tan\"> Was ist eine Klasse?</h4>\n",
    "\n",
    "Eine Klasse ist eine Spezifizierung der Gemeinsamkeiten einer Menge von\n",
    "Objekten:\n",
    "- mit denselben Attributen\n",
    "- demselben Verhalten (Methoden)\n",
    "- denselben Arten von Beziehungen (Verbindungen)\n",
    "\n",
    "Klassen sind also Schablonen, mit denen Objekte gleichen Typs beschrieben\n",
    "werden können.\n",
    "\n",
    "Beispiel für eine Klasse in Java:\n"
   ]
  },
  {
   "cell_type": "code",
   "execution_count": 2,
   "metadata": {},
   "outputs": [],
   "source": [
    "public class Auto {\n",
    "    \n",
    "    //Eigenschaften (Attribute) der Klasse\n",
    "    private String marke;\n",
    "    private String modell;\n",
    "    private int baujahr;\n",
    "}"
   ]
  },
  {
   "cell_type": "markdown",
   "metadata": {},
   "source": [
    "<h3 style=\"color: Sienna\"> Objekte und Klassen 2 </h3>\n",
    "\n",
    "<h4 style=\"color: Tan\"> Vererbung und Abstrakte Klassen</h4>\n",
    "\n",
    "\n",
    "<b>Einführung:</b><br>\n",
    "Wieso nutzen wir Vererbung?:\n",
    "Wir haben Klassen, welche Methoden oder Attribute beinhalten.(Beispiel: Klasse Kunder, Klasse Lieferant) Diese beiden Klassen haben womöglich ähnliche, sowie unterschiedliche Eigenschaften. Der Gedanke: Wir schaffen eine Klasse, welche die Gemeinsamkeiten innebirgt. (nach Beispiel: Geschäftspartner)\n",
    "\n",
    "Es gibt nun Oberklassen, sowie Unterklassen\n",
    "Unterklasse wäre hier der Kunde, da es eine Spezialisierung der Oberklasse Geschäftspartner ist.\n",
    "\n",
    "Wichtig!:\n",
    "Christian Müller ist ein Kunde aber ein Objekt, es geht hierbei bislang nur um Klassen, nicht Klassen zu Objekten.\n",
    "\n",
    "Die Vererbung ist ein Prinzip, welches uns ermöglicht Programmcode aus Klassen zu übernehmen.\n",
    "Betrifft hierbei, außer privater Methoden, alle Attribute und Methoden. Konstruktoren werden hierbei <b>nicht</b> vererbt.\n",
    "\n",
    "Nutzen: Gemeinsame Eigenschaften beim Entwurf durch Generalisierung nach oben schieben; später den Programmcode durch Vererbung wieder nach Unten geben.\n",
    "\n",
    "Durch die Vererbung entsteht eine tiefere Vererbungsstruktur mit beliebig vielen Ebenen (Ebene 0: Fahrzeug; Ebene 1:Wasserfahrzeug, Luftfahrzeug, Landfahrzeug; Ebene 2: PKW, LKW)\n",
    "Die Oberklasse vererbt hier ihre Eigenschaften der Unterklasse. Allerdings sind die Attribute und Methoden der Unterklasse nicht der Oberklasse bekannt.\n",
    "\n",
    "Wir erben auch die Assoziationen zu anderen Klassen. \n",
    "Beispiel: \"Fahrzeug hat eine Assoziation zu \"Person\", daher hat auch \"PKW\" eine Assoziation zu \"Person\".\n",
    "\n",
    "Besonderheit: Besitzt eine Klasse ein Klassenattribut mit dem Wert W, dann besitzen auch alle Unterklassen dieses Klassenattribut mit dem Wert W. Das Klassenattribut ist also singular.\n",
    "Beispiel: isBeweglich() kann auf alle Unterklassen angewandt werden.\n",
    "\n",
    "Vorteile:\n",
    "- Änderungen leichter durchführen, da Code nur einmal geschrieben werden muss.\n",
    "- Weniger Aufwand beim Coden\n",
    "\n",
    "Nachteile:\n",
    "- Um eine Unterklasse zu verstehen muss Oberklasse verstanden werden.\n",
    "- Wird eine Oberklasse neu Implementiert müssen eventuell auch die Unterklassen verändert werden\n",
    "\n",
    "<b>Vererbung in Java:</b><br>\n",
    "\n",
    "<u>Schlüsselwort extends:</u>\n"
   ]
  },
  {
   "cell_type": "code",
   "execution_count": 3,
   "metadata": {},
   "outputs": [],
   "source": [
    "class  Test {\n",
    "    public static void main(String[] args) {\n",
    "    Kunde einKunde = new Kunde(\"Meier KG\", \"Dortmund\");\n",
    "    }\n",
    "}\n",
    "class Geschäftspartner {\n",
    "    private String firmenname;\n",
    "    private String firmenadresse;\n",
    "}\n",
    "class Kunde extends Geschäftspartner {\n",
    "    private int auftragssumme;\n",
    "}"
   ]
  },
  {
   "cell_type": "markdown",
   "metadata": {},
   "source": [
    "Jede Klasse in Java muss mindestens einen Konstruktor besitzen.\n",
    "Konstruktoren dienen zur Initialisierung von Attributen: Bei der Erzeugung eines Objekts der Unterklasse initialisiert der Konstruktor der Oberklasse die von der Oberklasse geerbten Attribute.<br>\n",
    "<b><u>KONSTRUKTOREN WERDEN ALSO NICHT VERERBT!</u></b>"
   ]
  },
  {
   "cell_type": "code",
   "execution_count": 4,
   "metadata": {},
   "outputs": [],
   "source": [
    "//\n",
    "// Aufruf des Konstruktors der Oberklasse: super(....)\n",
    "// Hier geht es um einen expliziten Aufruf eines Konstruktors der direkten Oberklasse mit super(...), gefolgt\n",
    "// von einer geklammerten Argumentliste\n",
    "// Der Aufruf von super(...) muss die erste Anweisung sein\n",
    "\n",
    "class Geschäftspartner{\n",
    "    private String firmenname;\n",
    "    private String firmenadresse;\n",
    "    public Geschäftspartner(String name, String adresse) {\n",
    "        this.firmenname = name;\n",
    "        this.firmenadresse  = adresse;\n",
    "    }\n",
    "}"
   ]
  },
  {
   "cell_type": "markdown",
   "metadata": {},
   "source": [
    "Java erzwingt einen Konstruktor, welcher Aufrufbar ist, wenn man selbst keinen anlegt, allerdings parameterlos. \n",
    "\n",
    "Falls ein Konstruktor-Rumpf nicht mit dem expliziten Aufruf eines Konstruktors der direkten Oberklasse beginnt, generiert der Compiler als erste Anweisung automatisch einen Konstruktor."
   ]
  },
  {
   "cell_type": "code",
   "execution_count": 5,
   "metadata": {},
   "outputs": [],
   "source": [
    "//Programmierbeispiel aus der Vorlesung\n",
    "\n",
    "public class Person {\n",
    "\n",
    "    //Attribute\n",
    "    private String name;\n",
    "    \n",
    "    //Konstruktor\n",
    "    public Person(String name) {\n",
    "        this.name = name;\n",
    "    }\n",
    "    \n",
    "    //Methoden\n",
    "    public void setName() {\n",
    "        this.name = name;\n",
    "    }\n",
    "    public String getName() {\n",
    "        return name;\n",
    "    }\n",
    "}\n",
    "\n",
    "//Andere Datei\n",
    "\n",
    "public class Student extends Person {\n",
    "    //Attribute\n",
    "    private int matrikelnummer;\n",
    "    \n",
    "    //Konstruktor\n",
    "    public Student(String name, int matrikelnummer) {\n",
    "        super(name);\n",
    "        this.matrikelnummer = matrikelnummer;\n",
    "    \n",
    "    }\n",
    "}"
   ]
  },
  {
   "cell_type": "markdown",
   "metadata": {},
   "source": [
    "<b>Sichtbarkeitsbereiche:</b><br>\n",
    "\n",
    "private:\n",
    "\n",
    "public:\n",
    "\n",
    "<b>Verdecken, Verbergen und Überschreiben:</b><br>\n",
    "<b>Einfach- und Mehrfachvererbung:</b><br>\n",
    "<b>Abstrakte Klassen:</b><br>"
   ]
  },
  {
   "cell_type": "markdown",
   "metadata": {},
   "source": [
    "<h4 style=\"color: Tan\">Schnittstellen</h4>\n",
    "\n",
    "Interfaces in Java sind ein fundamentales Konzept der objektorientierten Programmierung. Sie sind vergleichbar mit Verträgen oder Regelwerken, die definieren, welche Methoden eine Klasse implementieren muss, ohne vorzugeben, wie diese Methoden intern funktionieren. Interfaces sind hilfreich, um eine klare trennung zwischen dem \"Was\" und dem \"Wie\" einer Implementierung zu schaffen. \n",
    "\n",
    "<u>Definition eines Interfaces in Java, sowie Implementierung der Funktionen:</u>"
   ]
  },
  {
   "cell_type": "code",
   "execution_count": 6,
   "metadata": {},
   "outputs": [],
   "source": [
    "interface Fahrzeug {\n",
    "    void fahren();\n",
    "    void anhalten();\n",
    "}\n",
    "class Auto implements Fahrzeug {\n",
    "    public void fahren() {\n",
    "        // Implementierung von fahren\n",
    "    }\n",
    "    public void anhalten() {\n",
    "        // Implementierung von anhalten\n",
    "    }\n",
    "}"
   ]
  },
  {
   "cell_type": "markdown",
   "metadata": {},
   "source": [
    "<u>Eigenschaften von Interfaces:</u>\n",
    "\n",
    "- Interfaces können keine konkreten Attribute enthalten. Sie können jedoch Konstanten definieren.\n",
    "- Eine Klasse kann mehrere Interfaces implementieren, was in Java eine Form der Mehrfachbindung darstellt.\n",
    "- Seit Java 8 können Interfaces Standartmethoden besitzen (default Methoden), welche eine Implementierung haben."
   ]
  },
  {
   "cell_type": "markdown",
   "metadata": {},
   "source": [
    "<h4 style=\"color: Tan\">Polymorphie</h4>\n",
    "\n",
    "<b>Einleitung</b>\n",
    "\n",
    "Polymorphie bezieht sich auf die Fähigkeit, Methoden in einer Klasse auf unterschiedliche Weise zu implementieren. Hierbei gibt es zwei Haupttypen der Polymorphie, welche im Nachfolgenden näher erläutert werden.\n",
    "\n",
    "\n",
    "<b>Method Overrriding</b>\n",
    "\n",
    "Dies tritt auf, wenn eine Unterklasse eine Methode definiert, welche bereits in der Oberklasse definiert ist. Durch Überschreiben einer Methode kann die Unterklasse eine spezifische Implementierung der Methode anbieten, die sich von der Oberklasse unterscheidet. Beim Aufruf einer Methode bestimmt der Typ des Objekts, welche Implementierung der Methode ausgefürt wird.<br>\n",
    "Ein Beispiel für diesen Fall sieht wie folgt aus:"
   ]
  },
  {
   "cell_type": "code",
   "execution_count": 7,
   "metadata": {},
   "outputs": [
    {
     "name": "stdout",
     "output_type": "stream",
     "text": [
      "Der Hund läuft\n",
      "Das Tier läuft\n"
     ]
    }
   ],
   "source": [
    "class Tier {\n",
    "    //Methode in Oberklasse\n",
    "    void laufen() {\n",
    "        System.out.println(\"Das Tier läuft\");\n",
    "    }\n",
    "}\n",
    "\n",
    "class Hund extends Tier {\n",
    "    //Methode in Unterklasse\n",
    "    void laufen() {\n",
    "        System.out.println(\"Der Hund läuft\");\n",
    "    }\n",
    "}\n",
    "\n",
    "Hund hund = new Hund();\n",
    "Tier tier = new Tier();\n",
    "\n",
    "hund.laufen();\n",
    "tier.laufen();"
   ]
  },
  {
   "cell_type": "markdown",
   "metadata": {},
   "source": [
    "<b>Method Overloading</b>\n",
    "\n",
    "Dies wiederum geschieht immer dann, wenn zwei oder mehr Methoden in derselben Klasse denselben Namen haben, aber sich in der Anzahl oder dem Typ der Parameter unterscheiden. Das Überladen ermöglicht es, Methoden mit unterschiedlichen Argumenten zu definieren, welche unterschiedliche Aufgaben ausführen.<br>\n",
    "Ein Beispiel hier in Java wäre:"
   ]
  },
  {
   "cell_type": "code",
   "execution_count": 8,
   "metadata": {},
   "outputs": [
    {
     "name": "stdout",
     "output_type": "stream",
     "text": [
      "Integer: 2\n",
      "String: Hallo\n"
     ]
    }
   ],
   "source": [
    "class Beispiel {\n",
    "    public void anzeigen(int a) {\n",
    "        System.out.println(\"Integer: \"+a);\n",
    "    }\n",
    "    public void anzeigen(String b) {\n",
    "        System.out.println(\"String: \"+b);\n",
    "    }\n",
    "}\n",
    "\n",
    "int a = 2;\n",
    "String b = \"Hallo\";\n",
    "Beispiel bsp = new Beispiel();\n",
    "\n",
    "bsp.anzeigen(a);\n",
    "bsp.anzeigen(b);"
   ]
  },
  {
   "cell_type": "markdown",
   "metadata": {},
   "source": [
    "<b>Generalisierung und Spezialisierung</b>\n",
    "\n",
    "<u>Generalisierung:</u> Dieser Prozess beinhaltet das Identifizieren von gemeinsamen Eigenschaften oder Verhaltensweisen mehrerer klassen und das Zusammenfassen dieser gemeinsamen Aspekte in einer einzigen Oberklasse. Die Idee ist, Wiederholungen im Code zu vermeiden und die gemeinsamen Eigenschaften an einer zentrallen Stelle zu verwalten.\n",
    "\n",
    "\n",
    "<u>Spezialisierung:</u>  Dies ist der umgekehrte Prozess der Generalisierung.\n",
    "\n",
    "<b>Statischer Typ vs. Dynamischer Typ</b>\n",
    "\n",
    "Grundsätzlich bezeichnet der statische Typ eines Objekts den Typen, der bei der Deklaration der variable verwendet wird, während der dynamische Typ der tatsächliche Typ zur Laufzeit ist. Der dynamische Typ kann hierbei gleich oder ein Subtyp des statischen Typs sein.<br>\n",
    "Das Besondere:  Der Zugriff auf Objekteigenschaften und Methoden hängt vom statischen Typ der Variable ab, die das Objekt referenziert.\n",
    "\n",
    "Um dieses Prinzip zu verstehen, folgt ein Beispiel:"
   ]
  },
  {
   "cell_type": "code",
   "execution_count": 9,
   "metadata": {},
   "outputs": [
    {
     "name": "stdout",
     "output_type": "stream",
     "text": [
      "Hans arbeitet.\n",
      "Anna arbeitet.\n",
      "Manager plant die Strategie.\n"
     ]
    }
   ],
   "source": [
    "class Mitarbeiter {\n",
    "    private String name;\n",
    "\n",
    "    public Mitarbeiter(String name) {\n",
    "        this.name = name;\n",
    "    }\n",
    "\n",
    "    public void arbeiten() {\n",
    "        System.out.println(name + \" arbeitet.\");\n",
    "    }\n",
    "}\n",
    "\n",
    "class Manager extends Mitarbeiter {\n",
    "    private int bonus;\n",
    "\n",
    "    public Manager(String name, int bonus) {\n",
    "        super(name);\n",
    "        this.bonus = bonus;\n",
    "    }\n",
    "\n",
    "    public void strategiePlanen() {\n",
    "        System.out.println(\"Manager plant die Strategie.\");\n",
    "    }\n",
    "}\n",
    "\n",
    "Mitarbeiter mitarbeiter = new Mitarbeiter(\"Hans\");\n",
    "Manager manager = new Manager(\"Anna\", 5000);\n",
    "\n",
    "// Zugriff auf Methoden von Mitarbeiter\n",
    "mitarbeiter.arbeiten(); // Funktioniert, da die Methode in Mitarbeiter definiert ist\n",
    "\n",
    "// Zugriff auf Methoden von Manager\n",
    "manager.arbeiten(); // Funktioniert, da Manager von Mitarbeiter erbt\n",
    "manager.strategiePlanen(); // Funktioniert, da die Methode in Manager definiert ist\n",
    "\n",
    "// Zuweisen eines Manager-Objekts zu einer Mitarbeiter-Variable\n",
    "Mitarbeiter anotherMitarbeiter = manager;\n",
    "\n",
    "// Versuch, auf die Methode strategiePlanen zuzugreifen\n",
    "// anotherMitarbeiter.strategiePlanen(); // Dies würde einen Compiler-Fehler verursachen"
   ]
  },
  {
   "cell_type": "markdown",
   "metadata": {},
   "source": [
    "In diesem Beispiel sehen wir:\n",
    "- _mitarbeiter.arbeiten()_ funktioniert, weil die Methode _arbeiten()_ in der Klasse Mitarbeiter definiert ist\n",
    "- _manager.arbeiten()_ und _manager.strategiePlanen()_ funktionieren, da manager ein Objekt der Klasse Manager ist, die von Mitarbeiter erbt und die Methode _strategiePlanen()_ enthält.\n",
    "- Die Zuweisung Mitarbeiter _anotherMitarbeiter = manager;_ ist zulässig, da Manager ein Subtyp von Mitarbeiter ist. Allerdings kann über anotherMitarbeiter nicht auf die Methode _strategiePlanen()_ zugegriffen werden, da der statische Typ von anotherMitarbeiter Mitarbeiter ist und diese Klasse die Methode _strategiePlanen()_ nicht kennt. Ein Versuch, _anotherMitarbeiter.strategiePlanen()_ aufzurufen, würde einen Compiler-Fehler verursachen."
   ]
  },
  {
   "cell_type": "markdown",
   "metadata": {},
   "source": [
    "### Altklausur \"Einführung in die Programmierung\" 15.02.2023 für INF/MI\n",
    "\n",
    "Grundsätzlich:\n",
    "- 90 Minuten Zeit\n",
    "- Bestehen erfordert 50 Punkte (zu erreichen sind 100+10)\n",
    "\n",
    "<b>Wissensfragen 15 Punkte</b>\n",
    "    \n",
    "    \n",
    "<b>Programmieraufgabe 25 Punkte</b>\n",
    "\n",
    "a) Schreiben Sie eine Methode<br> <br> \n",
    "void ersetzeMinimum(int[] feld, int wert),<br> <br>\n",
    "die im Array feld ein Element mit minimalem (kleinsten) Wert durch den Inhalt des\n",
    "Parameters wert ersetzt, wenn dieser größer ist als das Minimum. Kommt der\n",
    "kleinste Wert mehrfach vor, so soll nur eines dieser Elemente gegebenenfalls durch\n",
    "wert ersetzt werden.\n",
    "\n",
    "Sie müssen keine Klasse anlegen. (8 Punkte)\n",
    "\n",
    "\n",
    "<b>LÖSUNG:<b>"
   ]
  },
  {
   "cell_type": "code",
   "execution_count": 10,
   "metadata": {},
   "outputs": [],
   "source": [
    "void ersetzeMinimum(int[] feld, int wert) {\n",
    "    //Initialisiere einen Counter, um mir den kleinsten Index merken zu können\n",
    "    int counter = 0;\n",
    "    \n",
    "    for(int i=0; i < feld.length; i++) {\n",
    "        if(feld[i]<feld[counter]) {\n",
    "            counter = i;\n",
    "        } \n",
    "    }\n",
    "    \n",
    "    // Nun zu prüfen, ob Wert größer dem Feldwert\n",
    "    if(feld[counter]<wert) {\n",
    "        feld[counter] = wert;\n",
    "    }\n",
    "}"
   ]
  },
  {
   "cell_type": "code",
   "execution_count": null,
   "metadata": {},
   "outputs": [],
   "source": []
  }
 ],
 "metadata": {
  "kernelspec": {
   "display_name": "Java",
   "language": "java",
   "name": "java"
  },
  "language_info": {
   "codemirror_mode": "java",
   "file_extension": ".jshell",
   "mimetype": "text/x-java-source",
   "name": "Java",
   "pygments_lexer": "java",
   "version": "17.0.3+7"
  },
  "toc": {
   "base_numbering": 1,
   "nav_menu": {},
   "number_sections": true,
   "sideBar": true,
   "skip_h1_title": false,
   "title_cell": "Table of Contents",
   "title_sidebar": "Contents",
   "toc_cell": false,
   "toc_position": {},
   "toc_section_display": true,
   "toc_window_display": false
  }
 },
 "nbformat": 4,
 "nbformat_minor": 4
}
