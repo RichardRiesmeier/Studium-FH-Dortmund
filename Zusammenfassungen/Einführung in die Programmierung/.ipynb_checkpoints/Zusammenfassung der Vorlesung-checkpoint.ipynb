{
 "cells": [
  {
   "cell_type": "code",
   "execution_count": null,
   "metadata": {},
   "outputs": [],
   "source": []
  },
  {
   "cell_type": "markdown",
   "metadata": {},
   "source": [
    "# Zusammenfassung der Vorlesung \"Einführung in die Programmierung\"\n",
    "\n",
    "## Inhalte\n",
    "\n",
    "### Ausdrücke und Methoden\n",
    "\n",
    "### Kontrollstrukturen\n",
    "\n",
    "### Felder\n",
    "\n",
    "### Algorithmen\n",
    "\n",
    "### Objekte und Klassen\n",
    "\n",
    "#### Was ist ein Objekt?\n",
    "\n",
    "Objektorientierung (Abkürzung: OO):\n",
    "\n",
    "Ein Objekt ist ein individuelles Exemplar von Dingen:\n",
    "- Gegenstände: Handy, Sendemast, Geldautomat, Kreditkarte, PKW, …\n",
    "- Personen: Professor, Student, Kunde, Mitarbeiter, Manager, …\n",
    "- Begriffe der realen Welt: Konto, Vertrag, Kinofilm, Lied, …\n",
    "- Begriffe der Vorstellungswelt: juristische Person, natürliche Person, …\n",
    "\n",
    "Jedes Objekt ist definiert durch seinen Zustand, sein Verhalten und seine Identität.\n",
    "Zusätzlich hat ein Objekt ein Verhalten (engl. behaviour), das durch eine Menge von\n",
    "Methoden (auch Operationen genannt) gegeben ist.\n",
    "\n",
    "#### Was ist eine Klasse?\n",
    "\n",
    "Eine Klasse ist eine Spezifizierung der Gemeinsamkeiten einer Menge von\n",
    "Objekten:\n",
    "- mit denselben Attributen\n",
    "- demselben Verhalten (Methoden)\n",
    "- denselben Arten von Beziehungen (Verbindungen)\n",
    "\n",
    "Klassen sind also Schablonen, mit denen Objekte gleichen Typs beschrieben\n",
    "werden können.\n",
    "\n",
    "Beispiel für eine Klasse in Java:\n"
   ]
  },
  {
   "cell_type": "code",
   "execution_count": null,
   "metadata": {},
   "outputs": [],
   "source": [
    "public class Auto {\n",
    "    \n",
    "    Eigenschaften (Attribute) der Klasse\n",
    "    private String marke;\n",
    "    private String modell;\n",
    "    private int baujahr;\n",
    "}"
   ]
  },
  {
   "cell_type": "code",
   "execution_count": null,
   "metadata": {},
   "outputs": [],
   "source": []
  }
 ],
 "metadata": {
  "kernelspec": {
   "display_name": "Java",
   "language": "java",
   "name": "java"
  },
  "toc": {
   "base_numbering": 1,
   "nav_menu": {},
   "number_sections": true,
   "sideBar": true,
   "skip_h1_title": false,
   "title_cell": "Table of Contents",
   "title_sidebar": "Contents",
   "toc_cell": false,
   "toc_position": {},
   "toc_section_display": true,
   "toc_window_display": false
  }
 },
 "nbformat": 4,
 "nbformat_minor": 4
}
