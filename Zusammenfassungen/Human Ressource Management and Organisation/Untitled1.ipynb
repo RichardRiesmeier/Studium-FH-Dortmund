{
 "cells": [
  {
   "cell_type": "markdown",
   "id": "e4b03725",
   "metadata": {},
   "source": []
  }
 ],
 "metadata": {
  "kernelspec": {
   "display_name": "Java",
   "language": "java",
   "name": "java"
  },
  "language_info": {
   "codemirror_mode": "java",
   "file_extension": ".jshell",
   "mimetype": "text/x-java-source",
   "name": "Java",
   "pygments_lexer": "java",
   "version": "17.0.3+7"
  }
 },
 "nbformat": 4,
 "nbformat_minor": 5
}
