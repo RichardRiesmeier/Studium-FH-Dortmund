{
 "cells": [
  {
   "cell_type": "markdown",
   "id": "6d44860b",
   "metadata": {},
   "source": [
    "<h1 style=\"color:#8b0000\">Human Ressource Management and Organisation</h1>\n",
    "\n",
    "## Organisation\n",
    "\n",
    "<h3 style=\"color:8b4600\">Organisation und Organisationsstrukturen</h3>\n",
    "\n",
    "Eine Organisation ist laut Definition ein System von Regeln. Es stammt vom Verb \"organisieren\", welches das Schaffen von Regeln oder Verändern von Regeln beschreibt.\n",
    "Eine Organisationsstruktur geht hierrüber hinaus. Es ist ebenso ein System von Regeln, allerdings steuert es eine Personenmehrheit und fördert Arbeitsteilunh, welche wiedrum für Spezialisierung sorgt. Organisationsstruktur ist hierbei ein Produkt von wettbewerb- und Marktkenntnissen.\n",
    "\n",
    "<h3 style=\"color:8b4600\">Aufbau- und Ablauforganisation</h3>\n",
    "\n",
    "Bei der Aufbauorganisation geht es um die Organisation von Aufgaben und Befugnissen je Stelle, Zusammenfasung von Stellen zu Abteilungen, Bereichen (z.B. Divisionen) etc., basierend auf struktureller statischer Betrachtung.\n",
    "Das Vorgehen der Aufbauorganisation ist aus der Gesamtaufgabe Teilaufgaben abzuleiten(Aufgabenanalyse), diese wieder zu bündeln und Aufgabenträgern zuzuordnen., bevor weitere Verdichtungen erfolgen (Aufgabensynthese)\n",
    "Bei der ablauforganisation geht es wiederum um die Gestaltung von Abläufen bzw. Abfolgen von Aktivitäten. Es handelt sich hierbei um eine dynamische Sicht unter Betrachtung von raum-zeitlichen Zusammenhängen.\n",
    "\n",
    "\n",
    "\n",
    "## Management\n",
    "<h3 style=\"color:8b4600\"></h3>"
   ]
  },
  {
   "cell_type": "code",
   "execution_count": null,
   "id": "afe055f4",
   "metadata": {},
   "outputs": [],
   "source": []
  }
 ],
 "metadata": {
  "kernelspec": {
   "display_name": "Python 3 (ipykernel)",
   "language": "python",
   "name": "python3"
  },
  "language_info": {
   "codemirror_mode": {
    "name": "ipython",
    "version": 3
   },
   "file_extension": ".py",
   "mimetype": "text/x-python",
   "name": "python",
   "nbconvert_exporter": "python",
   "pygments_lexer": "ipython3",
   "version": "3.11.5"
  },
  "toc": {
   "base_numbering": 1,
   "nav_menu": {},
   "number_sections": true,
   "sideBar": true,
   "skip_h1_title": false,
   "title_cell": "Table of Contents",
   "title_sidebar": "Contents",
   "toc_cell": false,
   "toc_position": {},
   "toc_section_display": true,
   "toc_window_display": false
  }
 },
 "nbformat": 4,
 "nbformat_minor": 5
}
