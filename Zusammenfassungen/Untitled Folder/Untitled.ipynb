{
 "cells": [
  {
   "cell_type": "markdown",
   "id": "60899fcf",
   "metadata": {},
   "source": [
    "# Grundbegriffe der Wirtschaftsinformatik\n",
    "\n",
    "## Soziale und sozio-technische Systeme\n",
    "\n",
    "### Grundsätzliche Einordnung\n",
    "\n",
    "\"Gegenstand der Wirtschaftsinformatik sind Informationssysteme in Wirtschaft, Verwaltung und privatem Bereich.\"\n",
    "\n",
    "Informationssysteme sin soziotechnische Systeme, welche menschliche und maschinelle Komponentnen (Teilsysteme) umfassen. Sie unterstützen die Sammlung, Strukturiereng, Verarbeitung, Bereitstellung, Kommunikation und Nutzung von Daten, Informationen und Wissen, sowie deren Transformation.\n",
    "\n",
    "Informationssysteme tragen zur Entscheidungsfindung, Koordination, Steurerung und Kontrolle von wertschöpfungsprozessen sowie deren Automatisierung, Integration und Visualisierung unter insbesondereökonomischen Kriterien bei.\n",
    "\n",
    "Informationssysteme können Produkt-, Prozess- und Geschäftsmodellinnovationenen bewirken.\n",
    "\n",
    "\n",
    "### Das System\n",
    "\n",
    "Ein System ist eine Ganzheit einer Menge von Elementen und deren Relation zueinander. Beispiele wären ein Computersystem oder auch ein Softwaresystem.\n",
    "\n",
    "All das, was nicht zum System gehört, nennen wir Umwelt. Die Umwelt umgibt folglich das System und besachäftigt sich mit den externen Faktoren welche auf das System einwirken, während das System die internen Faktoren betrachtet.\n",
    "\n",
    "### Sozio-technische Systeme\n",
    "\n",
    "#### Was ist das?\n",
    "\n",
    "Sozio-technische Systeme sind eine Art von komplexeren Systemen,  die sowohl aus sozialen, als auch aus technischen Subsystemen bestehen. Diese Systeme sollen die Stärken sowohl von menschlichen, als auch von maschinellen Komponenten nutzen und integrieren, um ein effektiveres Gesamtsystem zu schaffen.\n",
    "\n",
    "Definition aus der Vorlesung: \"Produktionseinheit... die aus interdependenten technologischen, organisatorischen und personellen Teilsystemen besteht.\n",
    "\n",
    "Das technologische Teilsystem begrenzt zwar die anderen beiden Teilsysteme in ihrer Möglichkeit zur Gestaltung, jedoch weisen diese eigenständige arbeitspsychologische, arbeitspolitische und organisationale Eigenschaften auf, die wiederum auf die Funktionsweise des technologischen Teilsystems zurückwirken.\n",
    "\n",
    "#### Bestandteile von sozio-technischen Systemen\n",
    "\n",
    "Schauen wir uns folgende Grafik an:\n",
    "\n",
    "BIIIIIIIILLLLLDDDDDD\n",
    "\n",
    "\n",
    "Ein sozio-technisches System besteht also aus folgenden Elementen:\n",
    "\n",
    "- Rahmenvorgaben: strategische oder normative Vorgaben, die das System beeinflussen Beispiele wären rechtliche oder ethische Richtlinien\n",
    "- Vernetzung: Hiermit ist die Art und Weise gemeint, wie verscchiedene Teile des Systems miteinander interagieren\n",
    "- Wertschöpfungskette: Die Art der Beeinflussung wie Produkte/Dienstleistungen erstellt, verbessert, verteilt und unterstützt werden\n",
    "- Technik: Alle maschinell-technologische Komponenten des Systems\n",
    "- Organisation: Die Struktur des Management\n",
    "- Mensch: Die Eigenschaften des einelnen Menschen"
   ]
  }
 ],
 "metadata": {
  "kernelspec": {
   "display_name": "Java",
   "language": "java",
   "name": "java"
  },
  "language_info": {
   "codemirror_mode": "java",
   "file_extension": ".jshell",
   "mimetype": "text/x-java-source",
   "name": "Java",
   "pygments_lexer": "java",
   "version": "17.0.3+7"
  }
 },
 "nbformat": 4,
 "nbformat_minor": 5
}
