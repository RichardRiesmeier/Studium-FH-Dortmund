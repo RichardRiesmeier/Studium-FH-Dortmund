{
 "cells": [
  {
   "cell_type": "markdown",
   "id": "24f9c693",
   "metadata": {},
   "source": [
    "<h1 style=\"color: green\">IT-Infrastruktur</h1>\n",
    "\n",
    "## Grundlagen der digitalen Datenverarbeitung\n",
    "\n",
    "## Technische Realisierung elementarer Schaltalgebra\n",
    "\n",
    "## Architektur von Rechnersystemen\n",
    "\n",
    "## Aufbau moderner Rechnersysteme\n",
    "\n",
    "## Busse, Schnittstellen, Peripheriegeräte\n",
    "\n",
    "## Datenspeicherung\n",
    "\n",
    "## Netzwerke und Datenkommunikation\n",
    "\n",
    "## Betriebssysteme und Prozesse\n",
    "\n",
    "<h3 style=\"color:#32CD32\"> Lernziele dieser Einheit</h3>\n",
    "\n",
    "Am Ende dieser Einheit sollten folgende Dinge klar sein:\n",
    "\n",
    "- Wissen darüber, was ein Betriebssystem ist und welche Aufgaben es hat\n",
    "- wichtige Dienste eines Betriebssystems auflisten können\n",
    "- Kriterien für die Kategorisierung von Betriebssystemen kennen\n",
    "- verstanden haben, was ein Programm und ein Prozess ist\n",
    "- wissen, wie Prozesse durch das Betriebssystem verwaltet werden\n",
    "- anhand von Begriffen wie Zeitscheibe und Prozessumschaltung erklären können, wie das Betriebssystem den parallelen Betrieb verschiedener Prozesse simuliert\n",
    "- ein Zustandsdiagramm typischer Prozesszustände zeichnen können\n",
    "- zwischen CPU-bound und I/O-bound unterscheiden können\n",
    "- Ziele und Beispiele für Scheduling-Verfahren kennen (Round-Robin und Prioritäten).\n",
    "\n",
    "<h3 style=\"color:#32CD32\"> Was ist ein Betriebssystem und welche Aufgaben hat es?</h3>\n",
    "\n",
    "Ein Betriebssystem beschreibt die Programme eines digitalen\n",
    "Rechensystems, die zusammen mit den Eigenschaften der Rechenanlage die Basis der möglichen Betriebsarten bilden und insbesondere  die Abwicklung von Programmen steuern und überwachen.\n",
    "\n",
    "Das Betriebssystem (engl.: operating system) umfasst die Gesamtheit der Systemprogramme eines Rechners, die (zusammen mit den Eigenschaften der Rechnerhardware) die grundlegende Infrastruktur für die Ausführung von Anwendungssoftware bilden.\n",
    "Das Betriebssystem bildet eine Abstraktion von Hardwareeigenschaften und ist für die Steuerung und Überwachung von Anwendungsprogrammen zuständig. Es besteht aus einem Betriebssystemkern (engl.: operating system kernel) und aus Dienstprogrammen (engl. utility program).\n",
    "\n",
    "Zusammenfassend: Sammlung von grundlegenden, systemnahen Programmen (Software) und Bibliotheken, die für andere Programme (Anwenderprogramme) eine Infrastruktur schaffen.\n",
    "\n",
    "<u>Aufgaben des Betriebssystems</u>:\n",
    "\n",
    "1. Verwaltung von Ressourcen: Haupspeicher, CPU, ect.\n",
    "2. Programmierschnittstelle: API\n",
    "3. Bedienschnittstelle für Nutzer: User Interface \n",
    "\n",
    "Spezielle Betriebssysteme haben sich für spezifische Rechnertypen entwickelt, wie nachfolgende Abbildung veranschaulicht:\n",
    "\n",
    "<img src=\"spezielleBetriebssysteme.png\" alt=\"Quelle: Vorlesung Einführung in die Programmierung, FH Dortmund, Marcel Hoffmann \" title=\"\" />\n"
   ]
  },
  {
   "cell_type": "code",
   "execution_count": null,
   "id": "9c08f41c",
   "metadata": {},
   "outputs": [],
   "source": []
  }
 ],
 "metadata": {
  "kernelspec": {
   "display_name": "Python 3 (ipykernel)",
   "language": "python",
   "name": "python3"
  },
  "language_info": {
   "codemirror_mode": {
    "name": "ipython",
    "version": 3
   },
   "file_extension": ".py",
   "mimetype": "text/x-python",
   "name": "python",
   "nbconvert_exporter": "python",
   "pygments_lexer": "ipython3",
   "version": "3.11.5"
  },
  "toc": {
   "base_numbering": 1,
   "nav_menu": {},
   "number_sections": true,
   "sideBar": true,
   "skip_h1_title": false,
   "title_cell": "Table of Contents",
   "title_sidebar": "Contents",
   "toc_cell": false,
   "toc_position": {},
   "toc_section_display": true,
   "toc_window_display": false
  }
 },
 "nbformat": 4,
 "nbformat_minor": 5
}
