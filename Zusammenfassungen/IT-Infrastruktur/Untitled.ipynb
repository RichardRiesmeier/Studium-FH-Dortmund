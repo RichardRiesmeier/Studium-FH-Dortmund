{
 "cells": [
  {
   "cell_type": "code",
   "execution_count": 3,
   "id": "a3ca443e",
   "metadata": {},
   "outputs": [
    {
     "ename": "SyntaxError",
     "evalue": "incomplete input (1829170543.py, line 1)",
     "output_type": "error",
     "traceback": [
      "\u001b[1;36m  Cell \u001b[1;32mIn[3], line 1\u001b[1;36m\u001b[0m\n\u001b[1;33m    y = (1.62/2)*(0.9+0.4*((20*(9-1.91))/(3261/40))\u001b[0m\n\u001b[1;37m                                                   ^\u001b[0m\n\u001b[1;31mSyntaxError\u001b[0m\u001b[1;31m:\u001b[0m incomplete input\n"
     ]
    }
   ],
   "source": [
    "y = (1.62/2)*(0.9+0.4*((20*(9-1.91))/(3261/40))"
   ]
  },
  {
   "cell_type": "code",
   "execution_count": 4,
   "id": "4bc93430",
   "metadata": {},
   "outputs": [
    {
     "data": {
      "text/plain": [
       "1.292547378104876"
      ]
     },
     "execution_count": 4,
     "metadata": {},
     "output_type": "execute_result"
    }
   ],
   "source": [
    "(1.62/2)*(0.9 + 0.4*((20*(9-1.91))/(3261/40)))\n"
   ]
  },
  {
   "cell_type": "code",
   "execution_count": null,
   "id": "7c99b4f6",
   "metadata": {},
   "outputs": [],
   "source": []
  }
 ],
 "metadata": {
  "kernelspec": {
   "display_name": "Python 3 (ipykernel)",
   "language": "python",
   "name": "python3"
  },
  "language_info": {
   "codemirror_mode": {
    "name": "ipython",
    "version": 3
   },
   "file_extension": ".py",
   "mimetype": "text/x-python",
   "name": "python",
   "nbconvert_exporter": "python",
   "pygments_lexer": "ipython3",
   "version": "3.11.5"
  }
 },
 "nbformat": 4,
 "nbformat_minor": 5
}
